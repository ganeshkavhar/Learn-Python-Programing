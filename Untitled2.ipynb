{
 "cells": [
  {
   "cell_type": "markdown",
   "metadata": {},
   "source": [
    "# Learn Python "
   ]
  },
  {
   "cell_type": "markdown",
   "metadata": {},
   "source": [
    "Python Programming"
   ]
  },
  {
   "cell_type": "code",
   "execution_count": 2,
   "metadata": {},
   "outputs": [
    {
     "name": "stdout",
     "output_type": "stream",
     "text": [
      "Insert a number:4\n",
      "The number is Positive\n"
     ]
    }
   ],
   "source": [
    "#Progam to Check number is negative or positive\n",
    "\n",
    "num = int(input(\"Insert a number:\"))\n",
    "if num > 0:\n",
    "    print(\"The number is Positive\")\n",
    "else:\n",
    "    print(\"The number is Negative\")"
   ]
  },
  {
   "cell_type": "code",
   "execution_count": 4,
   "metadata": {},
   "outputs": [
    {
     "name": "stdout",
     "output_type": "stream",
     "text": [
      "Enter a Number:5\n",
      "Given number is Odd\n"
     ]
    }
   ],
   "source": [
    "\n",
    "#Program to check even or odd number\n",
    "num = int(input(\"Enter a Number:\"))\n",
    "if num % 2 == 0:\n",
    "    print(\"Given number is Even\")\n",
    "else:\n",
    "    print(\"Given number is Odd\")"
   ]
  },
  {
   "cell_type": "code",
   "execution_count": 7,
   "metadata": {},
   "outputs": [
    {
     "name": "stdout",
     "output_type": "stream",
     "text": [
      "Enter the Number:10\n",
      "Sum of N natural numbers: 55\n"
     ]
    }
   ],
   "source": [
    "\n",
    "# Program for add n numbers\n",
    "\n",
    "#Type 1\n",
    "num = int(input(\"Enter the Number:\"))\n",
    "value = 0\n",
    "for i in range(1, num+1):\n",
    "    value = value + i\n",
    "\n",
    "print(\"Sum of N natural numbers:\", value)"
   ]
  },
  {
   "cell_type": "code",
   "execution_count": 8,
   "metadata": {},
   "outputs": [
    {
     "name": "stdout",
     "output_type": "stream",
     "text": [
      "Enter the Number:55\n",
      "The Sum of N natural Number is 1540.0\n"
     ]
    }
   ],
   "source": [
    "#Type 2:\n",
    "\n",
    "num = int(input(\"Enter the Number:\"))\n",
    "sum = (num * (num+1))/2\n",
    "print(\"The Sum of N natural Number is {}\".format(sum))"
   ]
  },
  {
   "cell_type": "code",
   "execution_count": null,
   "metadata": {},
   "outputs": [],
   "source": []
  }
 ],
 "metadata": {
  "kernelspec": {
   "display_name": "Python 3",
   "language": "python",
   "name": "python3"
  },
  "language_info": {
   "codemirror_mode": {
    "name": "ipython",
    "version": 3
   },
   "file_extension": ".py",
   "mimetype": "text/x-python",
   "name": "python",
   "nbconvert_exporter": "python",
   "pygments_lexer": "ipython3",
   "version": "3.8.5"
  }
 },
 "nbformat": 4,
 "nbformat_minor": 4
}
